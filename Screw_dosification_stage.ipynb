{
 "cells": [
  {
   "cell_type": "markdown",
   "metadata": {},
   "source": [
    "# Extrusion\n",
    "\n",
    "## Screw dosification stage modelling\n"
   ]
  },
  {
   "cell_type": "markdown",
   "metadata": {},
   "source": [
    "### Assumptions "
   ]
  },
  {
   "cell_type": "markdown",
   "metadata": {},
   "source": [
    "### Navier - Bernoulli equation\n",
    "\n",
    "\n",
    "\\begin{array}{ll}\n",
    "\\frac{\\delta^2 v}{\\delta x^2} + \\frac{\\delta^2 v}{\\delta^2 y^2} = \\frac{1}{\\eta}(\\frac{dP}{dZ})\n",
    "\\end{array}"
   ]
  },
  {
   "cell_type": "markdown",
   "metadata": {},
   "source": [
    "\n",
    "### Screw volumetric flow rate \n",
    "\n",
    "\n",
    "\\begin{array}{ll}\n",
    "Q^{screw} = \\frac{\\pi^2 D^2 (sin \\theta cos \\theta) h N}{2} - \\frac{h^3 \\pi D sin^2 \\theta \\Delta P}{12 \\eta L}  \n",
    "\\end{array}\n",
    "\n",
    "### Nozzle volumetric flow rate\n",
    "\n",
    "\\begin{array}{ll}\n",
    "Q^{nozzle} = \\frac{\\pi R^4}{8 L} \\frac{\\Delta P}{\\eta}\n",
    "\\end{array}"
   ]
  },
  {
   "cell_type": "code",
   "execution_count": 4,
   "metadata": {
    "collapsed": false
   },
   "outputs": [],
   "source": [
    "# Import matplotlib (plotting) and numpy (numerical arrays).\n",
    "# This enables their use in the Notebook.\n",
    "%matplotlib inline\n",
    "import matplotlib.pyplot as plt\n",
    "import numpy as np\n",
    "\n",
    "# Import IPython's interact function which is used below to\n",
    "# build the interactive widgets\n",
    "from IPython.html.widgets import interact\n"
   ]
  },
  {
   "cell_type": "code",
   "execution_count": 24,
   "metadata": {
    "collapsed": false
   },
   "outputs": [
    {
     "data": {
      "image/png": "[encoded data removed]",
      "text/plain": [
       "<matplotlib.figure.Figure at 0x1e912cf1f60>"
      ]
     },
     "metadata": {},
     "output_type": "display_data"
    }
   ],
   "source": [
    "visc = 10**3\n",
    "\n",
    "def plot_flow_rate(D=0.04,L = 4, angle= np.pi/4, N = 30, h = 0.001 ,  grid_points=12, plot_nozzle=True):\n",
    "    \n",
    "    \"\"\"\n",
    "    plot nozzle variable can be set to false in order to not to show its plot.\n",
    "    \"\"\"\n",
    "    R = D/2\n",
    "    AP = np.linspace(0, 1000000, grid_points + 2)\n",
    "    Q = np.pi**2 * D**2 *(np.sin(angle)*np.cos(angle))*h*N/2 - h**3 * np.pi * D * np.sin(angle)**2 * AP/12/visc/L\n",
    "\n",
    "    \n",
    "    Qn = np.pi * R**4 / 8 / L * AP/visc\n",
    "\n",
    "    fig, ax = plt.subplots(figsize=(8, 6))\n",
    "    ax.set_xlabel('$\\Delta P $ (Pa) ')\n",
    "    ax.set_ylabel('Volumetric flow rate (m3 s)')\n",
    "    ax.set_title('Extrusion stage operating lines')\n",
    "\n",
    "    if plot_nozzle:\n",
    "        ax.plot(AP, Qn, color='red', linestyle='solid', linewidth=2)\n",
    "\n",
    "    ax.plot(AP,  Q,  marker='o', linewidth=2)\n",
    "\n",
    "# Interact function creates a user interface to see how variables affect the system.\n",
    "\n",
    "interact(plot_flow_rate, D=(0.01, 0.9, 0.1), L=(0.4,20,1), angle=(0,np.pi,0.5), N=(20,100,5), h = (0.0005,0.003,0.0005), grid_points=(10, 16, 1), plot_nozzle=True);"
   ]
  },
  {
   "cell_type": "code",
   "execution_count": 20,
   "metadata": {
    "collapsed": false
   },
   "outputs": [
    {
     "data": {
      "text/plain": [
       "0.97620649020757821"
      ]
     },
     "execution_count": 20,
     "metadata": {},
     "output_type": "execute_result"
    }
   ],
   "source": [
    "np.sin(30)**2\n"
   ]
  },
  {
   "cell_type": "code",
   "execution_count": null,
   "metadata": {
    "collapsed": true
   },
   "outputs": [],
   "source": [
    " Q = np.pi**2 * 0.5**2 *(np.sin(30)*np.cos(30))*0.001*10/2 - 0.4**3 * np.sin * D * np.sin(angle)**2 * AP/12/visc/L"
   ]
  }
 ],
 "metadata": {
  "kernelspec": {
   "display_name": "Python 3",
   "language": "python",
   "name": "python3"
  },
  "language_info": {
   "codemirror_mode": {
    "name": "ipython",
    "version": 3
   },
   "file_extension": ".py",
   "mimetype": "text/x-python",
   "name": "python",
   "nbconvert_exporter": "python",
   "pygments_lexer": "ipython3",
   "version": "3.5.2"
  },
  "widgets": {
   "state": {
    "e990b67fe25b490a9e993f7e48ea0bb6": {
     "views": [
      {
       "cell_index": 5
      }
     ]
    }
   },
   "version": "1.2.0"
  }
 },
 "nbformat": 4,
 "nbformat_minor": 2
}
